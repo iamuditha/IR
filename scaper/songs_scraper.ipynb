{
 "cells": [
  {
   "cell_type": "code",
   "execution_count": 1,
   "metadata": {},
   "outputs": [],
   "source": [
    "from bs4 import BeautifulSoup\n",
    "import requests,time,os\n",
    "import json,re"
   ]
  },
  {
   "cell_type": "code",
   "execution_count": 2,
   "metadata": {},
   "outputs": [],
   "source": [
    "# adjust the url for the each page\n",
    "def get_all_song_url(pg_no):\n",
    "    url = 'https://sinhalasongbook.com/all-sinhala-song-lyrics-and-chords/?_page={}/'.format(pg_no)\n",
    "    return url"
   ]
  },
  {
   "cell_type": "code",
   "execution_count": 3,
   "metadata": {},
   "outputs": [],
   "source": [
    "# wirte the song links to song_links.csv file\n",
    "def write_res(links_array):\n",
    "    with open('test1.csv','a',newline='') as f:\n",
    "        for link in links_array:\n",
    "            f.write(link + os.linesep)"
   ]
  },
  {
   "cell_type": "code",
   "execution_count": 4,
   "metadata": {},
   "outputs": [],
   "source": [
    "# get the response of a http request\n",
    "def make_req(url):\n",
    "    headers = requests.utils.default_headers()\n",
    "    response = requests.get(url, headers)\n",
    "    return response.text"
   ]
  },
  {
   "cell_type": "code",
   "execution_count": 5,
   "metadata": {},
   "outputs": [],
   "source": [
    "# parse the song links pages using BeautifulSoup\n",
    "def parse_html(html_pg):\n",
    "    links = []\n",
    "    soup = BeautifulSoup(html_pg, 'html.parser')\n",
    "    song_links = soup.find_all(\"a\",{\"class\": \"_blank\"})\n",
    "    for tag in song_links:\n",
    "        link = tag.get('href')\n",
    "        links.append(link)\n",
    "    return links"
   ]
  },
  {
   "cell_type": "code",
   "execution_count": 6,
   "metadata": {},
   "outputs": [],
   "source": [
    "# get the urls of all the songs\n",
    "def get_song_list():\n",
    "    for pg_no in range(1, 3):\n",
    "        url = get_all_song_url(pg_no)\n",
    "        html_pg = make_req(url)\n",
    "        links_array = parse_html(html_pg)\n",
    "        write_res(links_array)"
   ]
  },
  {
   "cell_type": "code",
   "execution_count": 7,
   "metadata": {},
   "outputs": [],
   "source": [
    "get_song_list()"
   ]
  },
  {
   "cell_type": "code",
   "execution_count": 7,
   "metadata": {},
   "outputs": [],
   "source": [
    "# read the song linknss file\n",
    "def get_song_url(line_num):\n",
    "    with open('test1.csv', 'r') as f:\n",
    "        lines = f.readlines()\n",
    "    return lines[line_num]"
   ]
  },
  {
   "cell_type": "code",
   "execution_count": 8,
   "metadata": {},
   "outputs": [],
   "source": [
    "# get_song_url(12)"
   ]
  },
  {
   "cell_type": "code",
   "execution_count": 9,
   "metadata": {},
   "outputs": [],
   "source": [
    "# BeautifulSoup(make_req('https://sinhalasongbook.com/aaley/'), 'html.parser')"
   ]
  },
  {
   "cell_type": "code",
   "execution_count": 10,
   "metadata": {},
   "outputs": [],
   "source": [
    "from googletrans import Translator\n",
    "def parse_html_song(html_pg):\n",
    "    translator = Translator()\n",
    "    with open ('next_song_link.txt', 'r') as f:\n",
    "        next_index = int(f.readlines()[0])\n",
    "    soup = BeautifulSoup(html_pg, 'html.parser')\n",
    "    song = {}\n",
    "    class_list = [\"entry-tags\",\"entry-categories\",\"entry-author-name\",\"lyrics\",\"music\"]\n",
    "    title = soup.find('h1', {\"class\": \"entry-title\"}).get_text()\n",
    "    views = soup.find('div',{'class':'tptn_counter'}).get_text().split()[1].split('Visits')[0]\n",
    "    song.update({'id' : next_index })\n",
    "    song.update({'title': title})\n",
    "    song.update({'views': int(views.replace(',',''))})\n",
    "    for class_l in class_list:\n",
    "        content = soup.find_all('span',{\"class\":class_l})\n",
    "        if content:\n",
    "            key, val = process_content(content[0])\n",
    "#             val = translator.translate(val, src = 'en',dest='si')\n",
    "\n",
    "            if ((not key is None) and (not val is None)):\n",
    "                if(type(val)== list):\n",
    "                    newVal =[]\n",
    "                    for value in val:\n",
    "                        newVal.append(translator.translate(value, src='en',dest='si').text)\n",
    "                        song.update({key:newVal})\n",
    "                        print(key , val)\n",
    "                else:\n",
    "#                     print(key , val)\n",
    "                    song.update({key:translator.translate(val, src='en',dest='si').text})\n",
    "\n",
    "        else:\n",
    "            pass\n",
    "    unprocessed_lyrics = soup.select('pre')[0].get_text()\n",
    "    processed_lyrics = parse_lyrics(unprocessed_lyrics)\n",
    "    song.update({'song_lyrics': processed_lyrics})\n",
    "    print(song)\n",
    "    return song"
   ]
  },
  {
   "cell_type": "code",
   "execution_count": 11,
   "metadata": {},
   "outputs": [],
   "source": [
    "def process_content(key_val_pair):\n",
    "    if key_val_pair:\n",
    "        key_val_pair = key_val_pair.get_text()\n",
    "        split_pair=key_val_pair.split(':')\n",
    "        if len(split_pair)>1:\n",
    "            key = split_pair[0]\n",
    "            val = split_pair[1]\n",
    "            if ',' in val:\n",
    "                values = []\n",
    "                split_val = val.split(',')\n",
    "                for value in split_val:\n",
    "                    values.append(value)\n",
    "                return key,values\n",
    "            else:\n",
    "                return key,val\n",
    "        else:\n",
    "            return None,None\n",
    "    else:\n",
    "        return None,None\n",
    "\n",
    "def parse_lyrics(lyrics):\n",
    "    space_set = set([' '])\n",
    "    processed = ''\n",
    "    regex = r\"([A-z])+|[0-9]|\\||-|∆|([.!?\\\\\\/\\(\\)\\+#&])+\"\n",
    "    lyric_lines = lyrics.split('\\n')\n",
    "    for line in lyric_lines:\n",
    "        new = re.sub(regex, '', line)\n",
    "        chars = set(new)\n",
    "        if not ((chars == space_set) or (len(chars) is 0)):\n",
    "            processed += new + '\\n'\n",
    "    return processed"
   ]
  },
  {
   "cell_type": "code",
   "execution_count": 12,
   "metadata": {},
   "outputs": [],
   "source": [
    "def write_song(song,id):\n",
    "    with open ('new-corpus/song_' + str(id)+'.json','w+') as f:\n",
    "        f.write(json.dumps(song))"
   ]
  },
  {
   "cell_type": "code",
   "execution_count": 13,
   "metadata": {},
   "outputs": [],
   "source": [
    "def scrape_songs():\n",
    "    with open ('next_song_link.txt', 'r') as f:\n",
    "        next_index = int(f.readlines()[0])\n",
    "    while next_index < 600 :\n",
    "        print('Scraping song',next_index)\n",
    "        url = get_song_url(int(next_index))\n",
    "        html_doc = make_req(url)\n",
    "        song = parse_html_song(html_doc)\n",
    "        write_song(song,next_index)\n",
    "        next_index = next_index + 1\n",
    "        with open('next_song_link.txt', 'w') as f:\n",
    "            f.write(str(next_index))\n",
    "        time.sleep (5)"
   ]
  },
  {
   "cell_type": "code",
   "execution_count": null,
   "metadata": {},
   "outputs": [
    {
     "name": "stdout",
     "output_type": "stream",
     "text": [
      "Scraping song 232\n",
      "Genre [' Movie Songs', ' Request']\n",
      "Genre [' Movie Songs', ' Request']\n",
      "{'id': 232, 'title': 'Asha Dasin Dakina – ආශා දෑසින් දකිනා', 'views': 774, 'Genre': ['චිත්රපට ගීත', 'ඉල්ලීම'], 'Artist': 'දේවානන්දා Waidyasekara', 'Lyrics': 'ස්වර්ණ ශ්රී බණ්ඩාර', 'Music': 'පණ්ඩිත් අමරදේව', 'song_lyrics': '——\\nආශා දෑසින් දකිනා සිහිනේ\\xa0\\nමිහිර මැකී යනවා\\nඒ සිහිනේ පුතු තනිකම ඉපදී\\xa0\\nහද තුල තෙරපෙනවා\\nආ මග දෑලේ පිපි මල් පරවී\\xa0\\nනෑ ඵල හටගන්නේ\\nසිතුවිලි මී මැසි පොදි නැත මී බැඳ\\xa0\\nඋන්මය රිදවන්නේ\\nතන්හා දෑතින් පැතු මේ වරපට\\nගිලිහී බිම වැටිලා\\nදෛවයෙ ගොනු ඇද ජීවන ගැල ගෙන\\nආ මග දිග යනවා\\nඈත අතීතයෙ සිහින මැදින් යලි\\xa0\\nජීවනයට යනවා\\n'}\n",
      "Scraping song 233\n",
      "{'id': 233, 'title': 'Asha Nirasha Mawu – ආශා නිරාශා මැවූ', 'views': 2815, 'Genre': 'ගෝල්ඩන් ඩිස්කෝ', 'Artist': 'වික්ටර් රත්නායක', 'Lyrics': 'අජන්තා රණසිංහ', 'Music': 'වික්ටර් රත්නායක', 'song_lyrics': '   \\xa0    \\n       \\xa0\\nආශා නිරාශා මැවූ ඈ ස්වප්න මායාවකී\\nස්නේහේ ගඟුල් ප්\\u200dරේමේ තැවුල්\\nමැවූ ඉන්ද්\\u200dරජාලේ ඇයයි \\n   \\xa0    \\n       \\xa0\\n   \\xa0    \\n   \\xa0\\nදවාලන්න පෙම්මාරුතේ \\nඇයයි ළංව ඉන්නේ සිතේ\\nනිවාලන්න දුක් ජීවිතේ ඇයයි නිල්ල මල් මාවතේ\\nදිවා රැයේ මා ළඟයි මගේ අරුම පෙම් අංගනා\\nනෙතේ හැංගි හැංගී හිඳී \\nසිතේ ස්වර්ණ යහනේ නිදී\\nමුවේ මන්දහාසේ දිදී     මගේ නින්ද ආයේ බිදී\\nදිවා රැයේ මා ළඟයි මගේ අරුම පෙම් අංගනා\\n'}\n",
      "Scraping song 234\n",
      "Genre [' Duets', ' Movie Songs', ' Old Pops']\n",
      "Genre [' Duets', ' Movie Songs', ' Old Pops']\n",
      "Genre [' Duets', ' Movie Songs', ' Old Pops']\n",
      "Artist [' Greshan Ananda', ' H.R.Jothipala']\n",
      "Artist [' Greshan Ananda', ' H.R.Jothipala']\n",
      "{'id': 234, 'title': 'Ashawe Ashawe – ආශාවේ ආශාවේ', 'views': 1755, 'Genre': ['Duets', 'චිත්රපට ගීත', 'පැරණි පොප්'], 'Artist': ['ග්රේෂන් ආනන්ද', 'H.R.Jothipala'], 'Lyrics': 'හේමසිරි හල්පිට', 'Music': 'සරත් ද අල්විස්', 'song_lyrics': 'ආශාවේ ආශාවේ පායා රෑ සිහින මායාවේ සේයා\\n\\t       \\t\\t\\t\\nදෑසේ සිනා හද සීතල මේ සිත \\n\\t\\t\\nමී පැණි දේ මට තව ළං වෙලා\\nමේ යාමේහෝ හෝ හෝ  \\nහෝ හෝ හෝ හෝ හෝ හෝ\\nආශාවේ ආශාවේ පායා පා වේවී පා වේවී සේයා\\n\\t       \\t\\t\\t\\nප්\\u200dරේමේ අමා රස වෑහෙන මීවිත \\n\\t\\t  \\nමා දෙතොලේ ඇත මට ළං වෙලා\\nමේ යාමේ… හෝ හෝ හෝ  \\nහෝ හෝ හෝ  හෝ හෝ හෝ\\nමා ඔබ හා අද යාළු වෙලා ඒ සතුටේ සිත මෝදු වෙලා\\n\\t\\t       \\t   \\nමා සනසාලා මා සතපාලා වෑහීලා හද ආරාධනා\\nසීගිරියේ බිතු රූ විලසේ මා මිතුරේ අපි යාළු වෙලා\\n\\t\\t       \\t \\nජීවිතයේදී මේ භවයේදී පෑහීලා අපි ප්\\u200dරේමේ රසේ\\n\\t\\t\\t\\t  \\nසඳ පාන ලෙසට මේ හිරු තාප මිහි තලේ\\n\\t       \\t    \\nඇති දාට හිතට ආදර සරණා   හෝ\\n\\t     \\t \\nහෝ හෝ හෝ  හෝ හෝ හෝ  හෝ හෝ හෝ\\nජීවිතයේ රස හා බැඳුණේ ආදරයේ මුව ගෑ කොතැනේ\\n\\t\\t        \\t   \\nසාගරයේදී යා වෙමු පෑහී  ආසාවේ අපි ආදරයේ\\nලෝකය මේ සැදුණේ තැනුනේ ප්\\u200dරේම දයා සෙනෙහේ මතිනේ\\n\\t\\t          \\t      \\nයාළුවනේ මේ මා හද යා වූ ආසාවේ මන ආදරයේ\\n\\t\\t\\t\\t  \\nබැඳි දාට පෙම් ලොවේ කුළ බේද ලෝකයේ\\n\\t         \\t         \\nසිදු වූවෙ කොහෙද නෑ කිසි සරණා     හෝ\\n\\t     \\t \\nහෝ හෝ හෝ  හෝ හෝ හෝ  හෝ හෝ හෝ\\n'}\n",
      "Scraping song 235\n",
      "Genre [' Calypso', ' Golden Oldies']\n",
      "Genre [' Calypso', ' Golden Oldies']\n",
      "{'id': 235, 'title': 'Ashoka Mal Mala – අසෝක මල් මාල', 'views': 2973, 'Genre': ['කැලිප්සෝ', 'ගෝල්ඩන් ඩිස්කෝ'], 'Artist': 'M.S.Fernando', 'Lyrics': 'නොදන්නා', 'Music': 'නොදන්නා', 'song_lyrics': 'අසෝක මල් මාල නෙළාලා\\nඅසෝක මල් උයනට වැදිලා\\xa0\\nසෝක නිවන ගීත ගයාලා\\nඔබ කවුරුද කියන්න මාලා \\nබලන්න ලක්ෂනයි\\nවනයේ පිපුණ මලට දෙවෙනි නෑ වගෙයි\\xa0\\nසුරංගනාවියක්ද මේ\\nකියන්න ආදරී\\nකවුද මෙ ඔබ තනිව වනේ ගී ගයා\\nප්\\u200dරීති වෙලා ප්\\u200dරීති වෙලා\\nඔබේ දුගී පැලේ\\nසතුට සැපත මිහිරි සුවය ඇත ළදේ\\xa0\\nනැතේ ම රාජ මංදිරේ\\xa0\\nනොයන්න ආදරී\\nප්\\u200dරේමණීය පෙම්වතෙක් දුකේ තියා\\xa0\\nඑපා එපා රජ සැපා\\n'}\n",
      "Scraping song 236\n",
      "{'id': 236, 'title': 'Ashoka Mala  – අශෝක මාලා', 'views': 1524, 'Genre': 'නව පොප්', 'Artist': 'Chandralekha පෙරේරා', 'Lyrics': 'උපාලි Dhanawalawithana', 'Music': 'මර්වින් පෙරේරා', 'song_lyrics': 'අශෝක මාලා මමයි ස්වාමිනී\\nඅශෝක මල් වනයේ\\nරනේ රුවට රූ සපුව දිලෙන මුත්\\nමා චණ්ඩාලියකී\\nමාචණ්ඩාලියකී\\nනොලැබෙන පෙමකට හඬා පලක් නෑ\\nඑපා රජුණි මට රාජ සුවේ\\nතල් අතු මැදුරයිමේ වන අරණයි\\nඅපට අගේ අපෙහීන කුලේ\\nරජකුල පෙළපත එයින් කමක් නෑ\\nඑන්න එපාඅතු පැලට මඟේ\\nඈතින් දිදුලන හඳට වඩා මට\\nලඟ ඉන්නා ඝණඳුරයි අගේ\\n'}\n",
      "Scraping song 237\n",
      "{'id': 237, 'title': 'Asurin Mideela – ඇසුරෙන් මිදීලා', 'views': 1800, 'Genre': 'පැරණි පොප්', 'Artist': 'priya Sooriyasena', 'Lyrics': 'කුලරත්න ආරියවංශ', 'Music': 'ස්ටැන්ලි පීරිස්', 'song_lyrics': 'ඇසුරෙන් මිදීලා ඔබගේ ලොවෙහී\\nසැඟවී හිඳිම් මා වෙන් වී මෙසේ\\nනොමැකී තියේනම් ඔබගේ සිතේහී\\nමගෙ ආදරේ මා යළි එන තුරා\\n රැකවල් සදාලා සීමා මවාලා\\n වෙන් වේවිදෝ ආදරේ\\n දෙසිතේ කතා වී දළු ලා වැඩී යාවී\\n රහසේම ඒ ආදරේ\\nකඳුලැල් නිවාලා දෑසින් සිනාසී\\n සැඟවී ඉමු මේ ලෙසේ\\n කවදාක හෝ මා එනතුරු ඔබේ දෑසේ\\n සඟවා තබා ආදරේ\\n'}\n",
      "Scraping song 238\n",
      "{'id': 238, 'title': 'Asuweda Kaurun Ho  – ඇසුවේද කවුරුන්', 'views': 1266, 'Genre': 'සම්භාව්ය', 'Artist': 'සුනිල් එදිරිසිංහ', 'Lyrics': 'කුමාරදාස සපුතන්ත්රී', 'Music': 'රෝහණ වීරසිංහ', 'song_lyrics': 'ඇසුවේද කවුරුන් හෝ නුඹෙන්\\nහැඬුවේ ඇයි ද ප්\\u200dරේමේ නමින්\\nවිමසා නැතිද කිසිදා ඔබත්\\xa0\\nකඳුලින් තුරන්වූ ප්\\u200dරේමයක්\\n \\t\\t\\t\\t\\nසතුටේ උපත කඳුලයි සදා\\xa0\\nහද වේදනා දෝතින් ගෙනා\\nපවනේ සිසිල සුසුමයි සිතේ\\nපෙම් ප්\\u200dරාර්ථනා විදදා ගෙනා\\nපිපි මල් මතින් පියමන් කලෝ\\nදිනුවේද කවදා ප්\\u200dරේමයෙන්\\nවිදි වේදනා සතුටින් දරා\\nපැරදී ගියේ කවුදෝ එයින්\\n'}\n",
      "Scraping song 239\n",
      "Artist [' Greshan Ananda', ' Neela Wickramasinghe']\n",
      "Artist [' Greshan Ananda', ' Neela Wickramasinghe']\n",
      "{'id': 239, 'title': 'Atha Duraka – ඈත දුරක', 'views': 1032, 'Genre': 'Duets', 'Artist': ['ග්රේෂන් ආනන්ද', 'නීලා වික්රමසිංහ'], 'Lyrics': 'කුලරත්න ආරියවංශ', 'Music': 'ග්රේෂන් ආනන්ද', 'song_lyrics': 'ඈත දුරක දෑස පාවෙලා\\nඈත දුරක දෑස පාවෙලා\\nගොළු වීලා ඔහේ තනිවෙමූ\\nපාළු ලොවක ඈත දුරක දෑස පාවෙලා\\n \\t\\t\\t\\t\\nපාසැල් යාමේ බැඳීලා\\nමා නෙතු දෑලේ වෙලීලා\\nපෑ මදහාසේ ජීවිත කාලේ\\nමා සිත යාවේ සදා\\nඒ සිහිනේදී උදා වී\\nමා කවදා හෝ ළඟා වී\\nමේ භවයේදී මේ දිවියේ දී\\nයා වෙමී දෑතේ ඔබේ\\n'}\n",
      "Scraping song 240\n",
      "Genre [' Classics', ' Request']\n",
      "Genre [' Classics', ' Request']\n",
      "{'id': 240, 'title': 'Atha Epita – ඈත එපිට', 'views': 8653, 'Genre': ['සම්භාව්ය', 'ඉල්ලීම'], 'Artist': 'සනත් නන්දසිරි', 'Lyrics': 'සුනිල් සරත් පෙරේරා මහතා', 'Music': 'සනත් නන්දසිරි', 'song_lyrics': 'ඈත එපිට ගම්මානෙන් නැග එන\\xa0\\nබටලී හඬ අතරේ\\xa0\\nඉතාම දුක්බර කවියක් මතුවෙද\\xa0\\nඇය නිදි නොමැති පැලේ\\xa0\\nමලානිකව හඳ එලිය ගලා එන\\xa0\\nඅම්බලමක හෙව\\u200dණේ\\xa0\\nබලා හිඳිමි ඔබ හිඳින විමන් දොර\\xa0\\nදැල්වෙන එළිය බඳේ\\nවේදනාව නෙතු අගට ගලාලා\\xa0\\nඉකිලන නිහඬ රැයේ\\xa0\\nනීල නුවන් තරු කැට බොඳ වෙනවා\\xa0\\nකාටත් හොර රහසේ\\n'}\n",
      "Scraping song 241\n",
      "{'id': 241, 'title': 'Atha Ran Viman – ඈත රන් විමන්', 'views': 3372, 'Genre': 'නව පොප්', 'Artist': 'priya Sooriyasena', 'song_lyrics': 'ඈත රන් විමන් දොරින් පාට සේලයෙන් සැදී\\nමුදු සීත හිම මුදුන් අතරින්  එබී බලනවා\\nහහ හා හහ හා හහ හා  හ  හා\\nමේ ලොවින් එ\\u200dහා සිටන්  ඈත ලෝකයෙන් ඇවිත්\\nමුදු නීල පීත ලෝහිත පෑ  ඈත දිලෙනවා\\nහහ හා හහ හා හහ හා  හ  හා\\nරෑට තරු දහස් ගණන් ඈත සුර පුරෙන් වැටී\\nඅද රෑට අද රෑට අද රෑට දිලෙනවා\\nහහ හා හහ හා හහ හා  හ  හා\\nගීත රාවයෙන් සැලී දෑත ආදරෙන් වෙලී\\nඔබ කීව පෙම් කතා ඇසුරෙන් ගීත මැවෙනවා\\nහහ හා හහ හා හහ හා  හ  හා\\n'}\n",
      "Scraping song 242\n",
      "Genre [' Duets', ' New Pop']\n",
      "Genre [' Duets', ' New Pop']\n",
      "Artist [' Abeywardhana Balasooriya', ' Niranjala Sarojini']\n",
      "Artist [' Abeywardhana Balasooriya', ' Niranjala Sarojini']\n",
      "{'id': 242, 'title': 'Atha Wanniye – ඈත වන්නියේ', 'views': 2500, 'Genre': ['Duets', 'නව පොප්'], 'Artist': ['අබේවර්ධන මහතා බාලසූරිය', 'නිරංජලා සරෝජිනී'], 'Lyrics': 'නිලාර් එන් කාසිම්', 'Music': 'මහින්ද බණ්ඩාර', 'song_lyrics': 'ඈත වන්නියේ ගුරු ගෙයි පාර අසා\\nනුඹෙ ඉසව්වට එන්නට හිතෙයි ළමා\\nසාර සියක් දොම්නස් මැද දෝර ගලා\\nඔය උණුහුම මට දැනුණේ දෝස නසා\\nරේණු සුවඳ අහසට බොඳවී යා නම්\\nසීත හිමේ මල් නො පිපී පරවීයන්\\nකීරි ගැහෙන හිත තිස්සෙම කකියයි නම්\\nමූණ නුඹේ නොදැක කෝම වෑවෙන්නෙම්\\nහීන් හඳට තරුවක් වත් නැති වේ නම්\\nරෑ පුරාම ඇයි ඇහැරී සැඟවීයන්\\nපුර පෝයට මං එනතුරු ඉවසාපන්\\nරෑ නාඬා නිදි හීනෙට ඉඩ දීපන්\\n'}\n",
      "Scraping song 243\n",
      "{'id': 243, 'title': 'Athagili Bandune – අතැඟිලි බැඳුනේ', 'views': 812, 'Genre': 'ගෝල්ඩන් පොප්', 'Artist': 'ඉන්ද්රානි පෙරේරා', 'Lyrics': 'අර්නස්ට් සොයිසා', 'Music': 'අර්නස්ට් සොයිසා', 'song_lyrics': 'අතැඟිලි බැඳුනේ ඇයි මේ විලසින්\\nඔබ හමුවෙන්න කලින්\\nසෙනෙහස ඔබගේ\\xa0කෙලෙස විඳින්නද\\xa0\\nඅන්සතු ළඳකි මෙ මං\\nඔබ ළඟ ඉන්නට\\xa0ඔබ ලැබ ගන්නට\\nමා හට නොමැත වරම්\\nමිහිපිට මා හට\\xa0නැහැ වෙන සතුටක්\\nඔබෙ රුව දකින තරම්\\nසෙනෙහස ඔබගේ\\xa0…\\nසිත සිත ඔබ ගැන\\xa0දින දින ළතවෙමි\\nවෙන මා කරමි කුමක්\\nහමුවුණෙ ඇයි අපි\\xa0ඇසුරු කරන්නට\\nඑය මා සිතට දුකක්\\n\\u200dසෙනෙහස ඔබගේ\\xa0…\\nසිතු පැතු සැම දේ\\xa0නැහැ ඉටුවෙන්නේ\\nලොව අපි පතන ලෙසින්\\nමතු එක්වෙන තුරු\\xa0යළි වෙන්වෙමු අපි\\nඔබ හට ආයුබොවන්\\nසෙනෙහස ඔබගේ\\xa0…\\n'}\n",
      "Scraping song 244\n",
      "Genre [' Classics', ' New Pop']\n",
      "Genre [' Classics', ' New Pop']\n",
      "{'id': 244, 'title': 'Atheethaya Sihinayak – අතීතය සිහිනයක් පමණයි', 'views': 1642, 'Genre': ['සම්භාව්ය', 'නව පොප්'], 'Artist': 'කරුණාරත්න දිවුල්ගනේ', 'Lyrics': 'පල්ලේගම හේමරතන himi', 'Music': 'නාලක අංජන කුමාර', 'song_lyrics': 'අතීතය සිහිනයක් පමණයි \\nසැබෑ සුවඳක් නැ\\nඑදා සෙනෙහෙන් නොබැදුනානම්\\xa0\\nමෙදා වියොවක් නැ\\nතැනූ මන්දිර බිදී වැටුනත්\\xa0\\nනෙතේ කදුලක් නැ\\nසිනහවෙන්නට වරම් නොලදත්\\xa0\\nහිතේ කිළුටක් නැ\\nසොබා දහමට නොවන අවනත\\xa0\\nලොවේ කිසිවක් නැ\\nලොවේ පැරදුම මිසක කිසිදා\\nලැබූ දිනුමක් නැ\\n'}\n",
      "Scraping song 245\n",
      "{'id': 245, 'title': 'Atheethye pawa – අතීතයේ පවා', 'views': 418, 'Genre': 'පැරණි පොප්', 'Artist': 'මිල්ටන් මල්ලවආරච්චි', 'Lyrics': 'K.D.K.Dharmawardhana', 'Music': 'ස්ටැන්ලි පීරිස්', 'song_lyrics': '    \\t                  \\nඅතීතයේ පවා  මගේ ලඟින් සිටී\\nභවෙන් භවේ පැතූ මා\\nඔබේය සෑමදා\\nදවසක මා……අමතා…නොපෙනී……කතා කලා\\nදිනකදි මා…හඬවා…මා පෙලා……නිහඬ වුනා\\nකෙදිනක හෝ…ඔබගේ…නොයිඳුල්… සෙනෙහෙ විලේ\\nසිනාසෙන්නම් නැවතී ආදරෙන් සිතූ ලෙසින්\\n'}\n",
      "Scraping song 246\n",
      "Genre [' Duets', ' Movie Songs']\n",
      "Genre [' Duets', ' Movie Songs']\n",
      "Artist [' Angelin Gunathilaka', ' H.R.Jothipala']\n",
      "Artist [' Angelin Gunathilaka', ' H.R.Jothipala']\n",
      "{'id': 246, 'title': 'Awa Soya Adare  –  ආවා සොයා ආදරේ', 'views': 1476, 'Genre': ['Duets', 'චිත්රපට ගීත'], 'Artist': ['Anjalin ගුණතිලක', 'H.R.Jothipala'], 'Lyrics': 'කරුණාරත්න අබේසේකර මහතා', 'Music': 'P.L.A.Somapala', 'song_lyrics': '\\t       \\t\\t   \\nරන් මසුරන් කිරි ගරුඬ තලාවක \\n\\t\\t  \\t \\nහැලෙන හදින් ඔබ අමතන්නේ\\n\\t\\t      \\nපායුග එසවෙනවා මා ඔබ වෙත එනවා\\n    \\t         \\nආවා සොයා  ආවා සොයා \\nආවා සොයා ආදරේ\\n\\t       \\t\\t   \\nදෙසවන් වැසුවද දෙනුවන් වැසුවද \\n\\t\\t    \\t   \\nඔබෙ හඬ ඔබෙ රුව මට සිහිවේ\\n\\t\\t   \\nහිනැහී ආකාසේ දිනිදා නැගෙනා සේ\\n    \\t         \\nආවා සොයා  ආවා සොයා \\nආවා සොයා ආදරේ\\n\\t\\t\\t\\t\\t\\nලස්\\u200cසන මල් දහසක්\\u200c අතරෙන් \\n \\t\\t\\nඔබගේ දසුන පෙනෙයි\\n\\t\\t\\t\\t\\t\\nකුංකුම චන්දන සුවඳ මැදින් \\n \\t       \\nඔබගේ සුවඳ දැනෙයි\\n\\t   \\t     \\nමා ලයේ  කුළුදුලේ \\nඅනන්ත හැඟුම් මැවේ\\n\\t\\t\\t\\t\\t\\nකල්ප ගණන් එකතුව උන් සේ \\n \\t\\t\\nනිරතුරු මට වැටහේ\\n\\t\\t\\t\\t\\t\\nඅල්පයකුදු ඔබ ලඟ නැතිනම් \\n \\t\\t\\nකල්පය ලෙස තේරෙයි\\n    \\t     \\nජීවිතේ මිහිරි බැව් \\nහැඟෙන්නෙ ඔබෙන් තමයි\\n'}\n",
      "Scraping song 247\n",
      "Genre [' Classics', ' Old Pops']\n",
      "Genre [' Classics', ' Old Pops']\n",
      "{'id': 247, 'title': 'Awado Sansare  – ආවාදෝ', 'views': 1625, 'Genre': ['සම්භාව්ය', 'පැරණි පොප්'], 'Artist': 'ගුණදාස කපුගේ', 'Lyrics': 'මහින්ද දිසානායක මහතා', 'Music': 'ගුණදාස කපුගේ', 'song_lyrics': '       \\t         \\n ආවාදෝ සංසාරේ\\n  මා හා බැදී   සැමදා… පාවි මාගෙ \\n සෙවනැල්ල සේ\\nආවාදෝ සංසාරේ \\n\\t         \\t   \\nඔරුවක් පාවුනා පාලුවේ සාගරේ\\nතොටියෙක් යාවුනා සිරුවේ සීතලේ\\n මිහිරේ ගී ගැයුනාවේ තනිය නසා \\nතනිය නසා\\n\\t          \\t    \\nකතරේ වාලුකා පැයුමෙන් වේලුනා\\nවැහැලා ඒ බිමෙ මී මලක් පිදුනා\\n සිහිල ලබා සිහිලැල්ලෙ නිවී ගියා \\nනිවී ගියා\\n'}\n",
      "Scraping song 248\n",
      "{'id': 248, 'title': 'Awapasa Ahasaka  – අවපස අහසක', 'views': 778, 'Genre': 'පැරණි පොප්', 'Artist': 'සුනිල් එදිරිසිංහ', 'Lyrics': 'කුලරත්න ආරියවංශ', 'Music': 'රෝහණ වීරසිංහ', 'song_lyrics': 'අවපස අහසක තරු ලකුණක් සේ\\nඅපමණ සයුරක තුරු දසුනක් සේ\\nදිගු දිවි ගමනේ ඉම ඔබ රැඳුණේ \\n \\t\\t\\t\\t\\nමාවත අවහිර නිමවා\\nදළ රළ පෙල සැතපෙනවා\\nසැළමුතු සෙනෙහස මඳ පවනක් වී\\nගැඹරේ නිම මුමුණනවා\\nදෝතක අසෙනිය ගවසා\\nඔබ පෙරමඟ හිනැහෙනවා\\nවිකසිත සිහිනේ සුබ කවියක් වී\\nදෙනෙතේ සිත ලියැවෙනවා\\n'}\n",
      "Scraping song 249\n",
      "Artist [' Sathish Perera', ' Shelton Perera']\n",
      "Artist [' Sathish Perera', ' Shelton Perera']\n",
      "{'id': 249, 'title': 'Awasan Liyumai  – අවසන් ලියුමයි', 'views': 2539, 'Genre': 'ගෝල්ඩන් ඩිස්කෝ', 'Artist': ['sathish පෙරේරා', 'ෂෙල්ටන් පෙරේරා'], 'song_lyrics': '             \\t\\t            \\nඅවසන් ලියුමයි ඔබට ලියන්නේ \\nවිරහා කඳුළු රැඳි පෑනෙන්\\nකියවා හැඬුවත් මට නම් කම් නැ \\nමගෙ හිත අද තද නින්දේ\\nඑයා පැලැන්දූ මංගල මුදුවේ \\nආඩම්බරකම මම දුටිමී\\nගෙල වට කරගෙන ළමැදේ ලගිනා \\nමංගල මාලය මම දුටිමී\\n                    \\t\\t\\t\\nඅබරණ අන්දන රන්වන් විහිලුව \\nසදාතනික ආදරය නොවේ\\nකියවා හැඬුවත් මට නම් කම් නැ \\nමගෙ හිත අද තද නින්දේ\\nපෑන තවත් දේ ලියන්න කීවත් \\nමොනවා ලියන්නද මීට වඩා\\nමේ ගැන අන් කිසිවෙකු නැහැ දන්නේ \\nවෙන දීගෙක ගිය ඔබට වඩා\\n                    \\t\\t\\t\\nඅබරණ අන්දන රන්වන් විහිලුව \\nසදාතනික ආදරය නොවේ\\nකියවා හැඬුවත් මට නම් කම් නැ \\nමගෙ හිත අද තද නින්දේ\\n'}\n",
      "Scraping song 250\n",
      "Genre [' Current Songs', ' Group Songs', ' Request']\n",
      "Genre [' Current Songs', ' Group Songs', ' Request']\n",
      "Genre [' Current Songs', ' Group Songs', ' Request']\n",
      "{'id': 250, 'title': 'Aaley – ආලේ', 'views': 11934, 'Genre': ['වත්මන් ගීත', 'සමූහ ගීත', 'ඉල්ලීම'], 'Artist': 'තාත්තා', 'Lyrics': 'තාත්තා', 'Music': 'තාත්තා', 'song_lyrics': 'කළු පාට හමට දෙන්නෙ නැද්ද හාදුවක්\\nඅද ලස්සන උනෙ කොහොමද වෙනදට ටිකක්\\nමනමාල කමට නෙමෙයි කලේ විහිළුවක්\\nහදේ ගැඹුරේ සැගවී තිබෙනා\\nකල් යන්න යන්න පපුවට දැනෙනවා බයක්\\nලඟ ඉන්නා විට සිහින දකිමි කෝටියක්\\nහිත රිද්දන විට උනනව කඳුළුත් ටිකක්\\nහදේ ගැඹුරේ සැගවී තිබෙනා ඒ\\nආලේනෑනේඕනේ\\nආලේනෑනේඕනේ\\xa0\\nඅපි ආදරේ කරනවා දැන් දිගුකාලයක්\\xa0\\nබැරි උනාතාම අරන්දෙන්න මාලයක්\\nතරහින් බලන්න එපා නැතුව ප්\\u200dරේමයක්\\nහදේ ගැඹුරේ සඟවා නොතියා\\nඔය හිතෙන හිතෙන දේ කරන්න බෑ මටත්\\nලඟ ඇත්තෙ ටිකයි ඉතිරි කරපු කාලයක්\\nඅපි පවුල් වෙමුද අරගෙන පොඩි සාදයක්\\nහදේ ගැඹුරේ සඟවා නොතියාඒ\\nහාදු උනත් මුව ගාව නැතත්\\nකිසිදිනකදි නෑ තැවුනේ\\nකාසි ගොඩක් මං ගාව නැතත්\\nනැතුවද අගනේ\\xa0ඔබටම බැදි මාගේ\\n'}\n",
      "Scraping song 251\n",
      "Genre [' Classics', ' Old Pops']\n",
      "Genre [' Classics', ' Old Pops']\n",
      "{'id': 251, 'title': 'Abhisarikawange – අභිසාරිකාවන්ගේ', 'views': 2789, 'Genre': ['සම්භාව්ය', 'පැරණි පොප්'], 'Artist': 'ගුණදාස කපුගේ', 'Lyrics': 'සුනිල් ආරියරත්න', 'Music': 'ගුණදාස කපුගේ', 'song_lyrics': ' \\t    \\n\\t\\t\\t\\t\\n\\t\\t   \\t\\t  \\nඅභිසාරිකාවන්ගේ උන්මාද නෙතු අතරේ\\n\\t         \\t       \\nඅයාලේ ගිය ජීවිතේ  ඔබෙනි ඵල ගැනුනේ\\nඅභිසාරිකාවන්ගේ \\nරාග ගිනි ජාලාවේ\\nප්\\u200dරේමයේ උණුසුම් සුසුමේ\\nවෙනස ඔබෙනි දැනුනේ…ඒ\\n\\t         \\t       \\nඅයාලේ ගිය ජීවිතේ  ඔබෙනි ඵල ගැනුනේ\\nආදරය යන වදනේ\\nමනු\\u200dලොවේ මිනිසත් භවයේ\\nමහිම ඔබෙනි හැඟුනේ…ඒ\\n\\t         \\t       \\nඅයාලේ ගිය ජීවිතේ  ඔබෙනි ඵල ගැනුනේ\\n'}\n",
      "Scraping song 252\n",
      "{'id': 252, 'title': 'Ada Amuthuma Reyaki  –  අද අමුතුම රැයකි', 'views': 4010, 'Genre': 'නව පොප්', 'Artist': 'H.R.Jothipala', 'Lyrics': 'කරුණාරත්න අබේසේකර මහතා', 'Music': 'සරත් දසනායක', 'song_lyrics': 'අද අමුතුම රැයකි හොඳ සීතල පැයකි\\n\\t\\t \\t  \\t\\nඅඳුරු වළා වැලපී මගෙ හිත සතුට දකී \\nඝන නිල් වරලින්නේ මල් සුවදකි එන්නේ\\n\\t\\t  \\t    \\t  \\nහද විනිවිද යන්නේ නෙත් සිත පිබිදෙන්නේ\\nනිලිපුල් වැනි දෑසේ සැතපී ඇති රහසේ\\n\\t\\t\\t      \\nතේරුම තොරාලා දෙනු මැන හිනහීලා\\nසුරලිත මුතු වරලේ අඩවන් සඳ බැබලේ\\n\\t\\t    \\t              \\nනා දළු බදු දෙතොලේ බිහිවෙයි මදු කොතොලේ\\n'}\n",
      "Scraping song 253\n",
      "{'id': 253, 'title': 'Ada Deegeka  – අද දීගෙක', 'views': 1510, 'Genre': 'පැරණි පොප්', 'Artist': 'සුනිල් එදිරිසිංහ', 'Lyrics': 'ධර්මසිරි ගමගේ', 'Music': 'රෝහණ වීරසිංහ', 'song_lyrics': ' \\xa0\\xa0\\xa0\\xa0 \\xa0\\n\\xa0\\xa0\\xa0\\xa0\\xa0\\xa0 \\n \\xa0\\xa0\\xa0\\xa0 \\nඅද දීගෙක ගිය නුඹ මට බුලත් අතක් දීලා\\nයන්න පිටත් වූ මොහොතේ මගේ දෙපා වැඳලා\\nඑතෙක් සිනහවෙන් සිටි මා කොහෙදෝ තනි වීලා\\nනෙතේ කඳුළු සිරකර ගෙන සිටියෙමි ඉවසාලා\\nපුංචි නංගියේ, මගේ පුංචි නංගියේ \\nපුංචි නංගියේ, මගේ පුංචි නංගියේ\\nමා සිටියත් ඉවසා ගෙන නෙතේ කඳුළු නොසලා\\nඅප දෙන්නා දිහා බලා උන් අම්මා දැකලා\\nඇගේ නෙතින් කඩා හැළුණු කඳුළු මතක් වීලා\\nකවුරුත් නැති තැනකට වී හැඬුවෙමි තනි වීලා\\nපුංචි නංගියේ, මගේ පුංචි නංගියේ \\nපුංචි නංගියේ, මගේ පුංචි නංගියේ\\n'}\n",
      "Scraping song 254\n",
      "Genre [' Golden Pop', ' Request']\n",
      "Genre [' Golden Pop', ' Request']\n",
      "{'id': 254, 'title': 'Ada Hawasata Ma- අද හවසට මා', 'views': 2255, 'Genre': ['ගෝල්ඩන් පොප්', 'ඉල්ලීම'], 'Artist': 'සුජාතා අත්තනායක', 'Lyrics': 'K.D.K.Dharmawardhana', 'Music': 'ස්ටැන්ලි පීරිස්', 'song_lyrics': '         \\xa0 \\xa0 \\n   \\xa0 \\xa0 \\xa0\\n  \\xa0\\xa0 \\xa0\\nඅද හවසට මා හමු වනු මැනවී\\nරැඟුම් බලන්නට කලාගාරයේ\\nමගෙ මේ ඇරයුම ඉවත නොලා\\nමගෙ මේ ඇරයුම ඉවත නොලා\\n  \\xa0\\xa0\\xa0\\n  \\xa0\\xa0 \\xa0 \\n  \\xa0 \\nනර්තන රංගන සිතුවම් එනවා\\nඔබ එහි රස විඳිනට මැළිවෙනවා\\nඑක දවසක් හෝ ඔබ මා සමගින්\\nරැඟුම් බලන්නට යන්නට එනු මැන\\nකෙල්ලක සතු නිදහස සීමාවෙයි\\nසිතු සේ දිව ඇවිදින්නට බැරිවෙයි\\nඑහෙයින් නාවත් ඇරයුම පිළිගෙන\\nරැඟුම් බලන්නට හවසට එනු මැන\\n'}\n",
      "Scraping song 255\n",
      "{'id': 255, 'title': 'Ada Heta Oba Ma – අද හෙට ඔබ මා', 'views': 3222, 'Genre': 'පැරණි පොප්', 'Artist': 'මිල්ටන් මල්ලවආරච්චි', 'Lyrics': 'K.D.K.Dharmawardhana', 'Music': 'ක්ලැරන්ස් විජේවර්ධන', 'song_lyrics': 'අද හෙට ඔබ මා අත හැරයන බව\\nදැන ගන්නට ලැබුනා  රහසින් මට හැඬුනා \\nඔබ රවටා නැත ඔබ හඬවා නැත\\nදැන දැන මා නම් වැරදි කළේ නැත\\nඔබ ගැන මට පුදුමයි                           \\nවෙනසට තතු නොහැඟෙයි\\nයොමුවී වෙනතක  ඔබ තනිවූ දින\\nතනියට සිටියේ මා පමනකි ලඟ\\nදැන් ඔබ  මා රිදවා\\nයලි වෙනතක බැඳිලා\\n'}\n",
      "Scraping song 256\n"
     ]
    }
   ],
   "source": [
    "scrape_songs()"
   ]
  },
  {
   "cell_type": "code",
   "execution_count": null,
   "metadata": {},
   "outputs": [],
   "source": [
    "# make_req('https://sinhalasongbook.com/abhisarikawange-%e0%b6%85%e0%b6%b7%e0%b7%92%e0%b7%83%e0%b7%8f%e0%b6%bb%e0%b7%92%e0%b6%9a%e0%b7%8f%e0%b7%80%e0%b6%b1%e0%b7%8a%e0%b6%9c%e0%b7%9a/')"
   ]
  },
  {
   "cell_type": "code",
   "execution_count": null,
   "metadata": {},
   "outputs": [],
   "source": [
    "translator = Translator()\n",
    "from googletrans import Translator"
   ]
  },
  {
   "cell_type": "code",
   "execution_count": null,
   "metadata": {},
   "outputs": [],
   "source": [
    "translator = Translator()\n",
    "translator.translate('Gamage Amaradewa.', src='en', dest='si').text"
   ]
  },
  {
   "cell_type": "code",
   "execution_count": null,
   "metadata": {},
   "outputs": [],
   "source": []
  },
  {
   "cell_type": "code",
   "execution_count": null,
   "metadata": {},
   "outputs": [],
   "source": []
  },
  {
   "cell_type": "code",
   "execution_count": null,
   "metadata": {},
   "outputs": [],
   "source": []
  }
 ],
 "metadata": {
  "kernelspec": {
   "display_name": "Python 3",
   "language": "python",
   "name": "python3"
  },
  "language_info": {
   "codemirror_mode": {
    "name": "ipython",
    "version": 3
   },
   "file_extension": ".py",
   "mimetype": "text/x-python",
   "name": "python",
   "nbconvert_exporter": "python",
   "pygments_lexer": "ipython3",
   "version": "3.7.6"
  }
 },
 "nbformat": 4,
 "nbformat_minor": 4
}
