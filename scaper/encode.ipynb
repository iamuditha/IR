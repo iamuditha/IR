{
 "cells": [
  {
   "cell_type": "code",
   "execution_count": 7,
   "metadata": {},
   "outputs": [],
   "source": [
    "import json\n",
    "in_filename = 'songs.json'\n",
    "out_file_name = 'bulk_lyrics_objects.json'\n",
    "\n",
    "out = open('./'+out_file_name, 'w',encoding='utf-8')\n",
    "\n",
    "with open('./'+in_filename,encoding='utf-8') as json_in:\n",
    "    docs = json.loads(json_in.read())\n",
    "    for doc in docs:\n",
    "        out.write('%s\\n' % json.dumps({'index': {}}))\n",
    "        out.write('%s\\n' % json.dumps(doc, indent=0,ensure_ascii=False).replace('\\n', ''))\n"
   ]
  },
  {
   "cell_type": "code",
   "execution_count": null,
   "metadata": {},
   "outputs": [],
   "source": []
  },
  {
   "cell_type": "code",
   "execution_count": null,
   "metadata": {},
   "outputs": [],
   "source": []
  }
 ],
 "metadata": {
  "kernelspec": {
   "display_name": "Python 3",
   "language": "python",
   "name": "python3"
  },
  "language_info": {
   "codemirror_mode": {
    "name": "ipython",
    "version": 3
   },
   "file_extension": ".py",
   "mimetype": "text/x-python",
   "name": "python",
   "nbconvert_exporter": "python",
   "pygments_lexer": "ipython3",
   "version": "3.7.6"
  }
 },
 "nbformat": 4,
 "nbformat_minor": 4
}
